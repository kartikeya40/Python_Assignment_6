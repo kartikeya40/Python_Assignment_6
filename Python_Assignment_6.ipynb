{
 "cells": [
  {
   "cell_type": "markdown",
   "id": "327255d2",
   "metadata": {},
   "source": [
    "1.What are escape characters, and how do you use them?"
   ]
  },
  {
   "cell_type": "markdown",
   "id": "ae1e6ca8",
   "metadata": {},
   "source": [
    "It is a sequence of characters that when used inside a string loses its original identity, and performs tasks that are difficult to express directly in a string"
   ]
  },
  {
   "cell_type": "markdown",
   "id": "48f1f667",
   "metadata": {},
   "source": [
    "2.What do the escape characters n and t stand for?"
   ]
  },
  {
   "cell_type": "markdown",
   "id": "db28c230",
   "metadata": {},
   "source": [
    "\\'\\n' stands for newline, and '\\t' stands for tab\n",
    "a='a\\tb'\n",
    "print(a)\n",
    "a='a\\nb'\n",
    "print(a)"
   ]
  },
  {
   "cell_type": "markdown",
   "id": "a2439e98",
   "metadata": {},
   "source": [
    "3.What is the way to include backslash characters in a string?"
   ]
  },
  {
   "cell_type": "markdown",
   "id": "cb2b4889",
   "metadata": {},
   "source": [
    "\\\\ is used to include backslash in a string\n",
    "Ex:-\n",
    "'a\\\\b'"
   ]
  },
  {
   "cell_type": "markdown",
   "id": "200896a3",
   "metadata": {},
   "source": [
    "4.The string \"Howl's Moving Castle\" is a correct value. Why isn't the single quote character in the\n",
    "word Howl's not escaped a problem?"
   ]
  },
  {
   "cell_type": "markdown",
   "id": "93a215d7",
   "metadata": {},
   "source": [
    "This is because we have used double quotes to have this string"
   ]
  },
  {
   "cell_type": "markdown",
   "id": "19d0fa2a",
   "metadata": {},
   "source": [
    "5.How do you write a string of newlines if you don't want to use the n character?"
   ]
  },
  {
   "cell_type": "markdown",
   "id": "9528b15d",
   "metadata": {},
   "source": [
    "We can use triple quotes and then use the newline. Please refer to the example below:\n",
    "\"\"\"fkjndsj\n",
    "skjnckj\n",
    "dskjof\"\"\""
   ]
  },
  {
   "cell_type": "markdown",
   "id": "e9123b68",
   "metadata": {},
   "source": [
    "6.What are the values of the given expressions?\n",
    "'Hello, world!'[1]\n",
    "'Hello, world!'[0:5]\n",
    "'Hello, world!'[:5]\n",
    "'Hello, world!'[3:]"
   ]
  },
  {
   "cell_type": "markdown",
   "id": "c92fa02e",
   "metadata": {},
   "source": [
    "1.'e'\n",
    "2.'Hello'\n",
    "3.'Hello'\n",
    "4.'lo, world!'"
   ]
  },
  {
   "cell_type": "markdown",
   "id": "919e27c0",
   "metadata": {},
   "source": [
    "7.What are the values of the following expressions?\n",
    "'Hello'.upper()\n",
    "'Hello'.upper().isupper()\n",
    "'Hello'.upper().lower()"
   ]
  },
  {
   "cell_type": "markdown",
   "id": "07a14601",
   "metadata": {},
   "source": [
    "1.'HELLO'\n",
    "2.True\n",
    "3.'hello'"
   ]
  },
  {
   "cell_type": "markdown",
   "id": "f207097f",
   "metadata": {},
   "source": [
    "8.What are the values of the following expressions?\n",
    "'Remember, remember, the fifth of July.'.split()\n",
    "'-'.join('There can only one.'.split())"
   ]
  },
  {
   "cell_type": "markdown",
   "id": "65a0ad42",
   "metadata": {},
   "source": [
    "1.['Remember,', 'remember,', 'the', 'fifth', 'of', 'July.']\n",
    "2.'There-can-only-one.'"
   ]
  },
  {
   "cell_type": "markdown",
   "id": "9956800d",
   "metadata": {},
   "source": [
    "9.What are the methods for right-justifying, left-justifying, and centering a string?"
   ]
  },
  {
   "cell_type": "markdown",
   "id": "b81e11cb",
   "metadata": {},
   "source": [
    "These methods are used for right justifying, left justifying, and centering the string. Below is the example:\n",
    "print('ineuron'.rjust(10))\n",
    "print('ineuron'.ljust(10))\n",
    "print('ineuron'.center(10))"
   ]
  },
  {
   "cell_type": "markdown",
   "id": "f6d51d27",
   "metadata": {},
   "source": [
    "10.What is the best way to remove whitespace characters from the start or end?"
   ]
  },
  {
   "cell_type": "markdown",
   "id": "248cd5f6",
   "metadata": {},
   "source": [
    "The best way to remove whitespace is by using the strip function\n",
    "print('           iijndsjdinsijjdnn'.lstrip())\n",
    "print('dkjbflh   '.rstrip())\n",
    "print('        isjsjncjs          '.strip())"
   ]
  }
 ],
 "metadata": {
  "kernelspec": {
   "display_name": "Python 3 (ipykernel)",
   "language": "python",
   "name": "python3"
  },
  "language_info": {
   "codemirror_mode": {
    "name": "ipython",
    "version": 3
   },
   "file_extension": ".py",
   "mimetype": "text/x-python",
   "name": "python",
   "nbconvert_exporter": "python",
   "pygments_lexer": "ipython3",
   "version": "3.9.7"
  }
 },
 "nbformat": 4,
 "nbformat_minor": 5
}
